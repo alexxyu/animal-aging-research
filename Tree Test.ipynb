{
 "cells": [
  {
   "cell_type": "code",
   "execution_count": 2,
   "metadata": {},
   "outputs": [],
   "source": [
    "from ete3 import Tree, TreeStyle\n",
    "import matplotlib.pyplot as plt\n",
    "from matplotlib.colors import Normalize, hex2color, rgb2hex\n",
    "import pandas as pd\n",
    "import numpy as np"
   ]
  },
  {
   "cell_type": "markdown",
   "metadata": {},
   "source": [
    "# Display Tree"
   ]
  },
  {
   "cell_type": "code",
   "execution_count": 20,
   "metadata": {},
   "outputs": [],
   "source": [
    "def layout(node):\n",
    "    \n",
    "    if node.is_leaf():\n",
    "        \n",
    "        name = node.name\n",
    "        vals = name.split(\"--\")\n",
    "        lsm = vals[1]\n",
    "        \n",
    "        rgb_tuple = cmap(norm(float(vals[1])))\n",
    "        rgb_hex = rgb2hex(rgb_tuple)\n",
    "        \n",
    "        node.name = vals[0] + \" (%s)\" % lsm[:6]\n",
    "        node.img_style[\"bgcolor\"] = rgb_hex\n"
   ]
  },
  {
   "cell_type": "code",
   "execution_count": 34,
   "metadata": {},
   "outputs": [
    {
     "name": "stdout",
     "output_type": "stream",
     "text": [
      "0.016427885\n",
      "0.41515488700000003\n"
     ]
    }
   ],
   "source": [
    "data = pd.read_csv('data/species_lifespans.txt', sep='\\t')\n",
    "l_symbol = \"NLN1\"\n",
    "l_min, l_max = np.min(data[l_symbol].apply(np.min)), np.max(data[l_symbol].apply(np.max))\n",
    "\n",
    "cmap = plt.get_cmap('Blues')\n",
    "norm = Normalize(float(l_min), float(l_max))\n",
    "\n",
    "t = Tree(\"tree_negn1.nwk\")\n",
    "ts = TreeStyle()\n",
    "ts.layout_fn = layout\n",
    "t.show(tree_style = ts)"
   ]
  },
  {
   "cell_type": "markdown",
   "metadata": {},
   "source": [
    "# Prune Tree"
   ]
  },
  {
   "cell_type": "code",
   "execution_count": 9,
   "metadata": {},
   "outputs": [],
   "source": [
    "t = Tree(\"ucsc_phylo.nwk\")\n",
    "\n",
    "with open(r'ucsc_phylo_anims.txt') as f:\n",
    "    content = f.readlines()\n",
    "content = [x.strip() for x in content] \n",
    "#t.prune((\"Human\",\"Marmoset\",\"Bushbaby\",\"Squirrel\"))\n",
    "t.prune(tuple(content))\n",
    "t.show()"
   ]
  },
  {
   "cell_type": "code",
   "execution_count": null,
   "metadata": {},
   "outputs": [],
   "source": []
  }
 ],
 "metadata": {
  "kernelspec": {
   "display_name": "Python 3",
   "language": "python",
   "name": "python3"
  },
  "language_info": {
   "codemirror_mode": {
    "name": "ipython",
    "version": 3
   },
   "file_extension": ".py",
   "mimetype": "text/x-python",
   "name": "python",
   "nbconvert_exporter": "python",
   "pygments_lexer": "ipython3",
   "version": "3.6.0"
  }
 },
 "nbformat": 4,
 "nbformat_minor": 2
}
